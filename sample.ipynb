{
 "cells": [
  {
   "cell_type": "code",
   "execution_count": null,
   "metadata": {
    "id": "7e24d35f-ad12-4b2f-a41b-b447e43b6baf"
   },
   "outputs": [],
   "source": [
    "#..exams\n",
    "\n",
    "students = [{'name': 'Steve Oney', 'uniquename': 'soney'}, {'name': 'Paul Resnick', 'uniquename': 'presnick'}]\n",
    "\n",
    "for student in students:\n",
    "    student['filename'] = '{}_midterm_2.ipynb'.format(student['uniquename'])\n",
    "\n",
    "students"
   ]
  },
  {
   "cell_type": "markdown",
   "metadata": {
    "id": "0a8dcb46-6b79-4e56-ad29-793a6874dac9"
   },
   "source": [
    "..*\n",
    "\n",
    "# UMSI 106 Exam Generator\n",
    "\n",
    "## This exam is for @name\n",
    "### Your email address is @uniquename@umich.edu\n",
    "\n",
    "This is an example exam for the UMSI 106 Exam generator."
   ]
  },
  {
   "cell_type": "markdown",
   "metadata": {
    "id": "5d6d4bdf-518a-40b0-a78b-8a1a471f3893"
   },
   "source": [
    "..problem MC.a 2\n",
    "\n",
    "@problem. This is problem number @problem. It is alternative number 1. It is worth @points points. *(@points points)*\n",
    "\n",
    "Which of the following mascots would win?\n",
    "\n",
    "- A wolverine\n",
    "- A buckeye\n",
    "- A badger\n",
    "- A shade of red"
   ]
  },
  {
   "cell_type": "code",
   "execution_count": null,
   "metadata": {
    "id": "e4df7421-5bc7-4c09-ba4c-d99658d6c9a2"
   },
   "outputs": [],
   "source": [
    "# problem @problem answer: "
   ]
  },
  {
   "cell_type": "markdown",
   "metadata": {
    "id": "660a1aef-f1fb-496c-a6ed-7e5b4bea360d"
   },
   "source": [
    "..problem MC.a 2\n",
    "\n",
    "@problem. This is problem number @problem. It is alternative number 2. It is worth @points points. *(@points points)*\n",
    "\n",
    "Which is the best color?\n",
    "\n",
    "- Maize\n",
    "- Red\n",
    "- Purple\n",
    "- Green"
   ]
  },
  {
   "cell_type": "code",
   "execution_count": null,
   "metadata": {
    "id": "4516632c-ad30-4008-b8f3-438d8aedbf8d"
   },
   "outputs": [],
   "source": [
    "# problem @problem answer: "
   ]
  },
  {
   "cell_type": "markdown",
   "metadata": {
    "id": "ea2ed9dc-e58c-48a2-83a4-2d6ddde4797c"
   },
   "source": [
    "..problem MC.b 2\n",
    "\n",
    "@problem. What year was the university of Michigan founded? *(@points points)*\n",
    "\n",
    "- 1817\n",
    "- 1837\n",
    "- 1861\n",
    "- 1900"
   ]
  },
  {
   "cell_type": "code",
   "execution_count": null,
   "metadata": {
    "id": "58c06cb2-1ee3-47d6-afdc-22c66b1b2c93"
   },
   "outputs": [],
   "source": [
    "# problem @problem answer: "
   ]
  },
  {
   "cell_type": "markdown",
   "metadata": {
    "id": "e620d1ca-e129-4a80-b900-751a7eda1c96"
   },
   "source": [
    "..problem MC.b 2\n",
    "\n",
    "@problem. Where was the university of Michigan founded? *(@points points)*\n",
    "\n",
    "- Ann Arbor\n",
    "- Detroit\n",
    "- Dearborn\n",
    "- Flint"
   ]
  },
  {
   "cell_type": "code",
   "execution_count": null,
   "metadata": {
    "id": "26288b58-7e05-488f-b066-cd0eaed30683"
   },
   "outputs": [],
   "source": [
    "# problem @problem answer: "
   ]
  },
  {
   "cell_type": "markdown",
   "metadata": {
    "id": "90a4c1d2-a2a0-444d-8c33-3b402beee785"
   },
   "source": [
    "..problem SA.a 4\n",
    "\n",
    "@problem. Define a function `alwaysBlue` that accepts no arguments and returns the string `'blue'`"
   ]
  },
  {
   "cell_type": "code",
   "execution_count": null,
   "metadata": {
    "id": "68bf9efa-c887-4ce3-9e3f-2d4bf8368c70"
   },
   "outputs": [],
   "source": [
    "# Write your code for problem @problem here"
   ]
  },
  {
   "cell_type": "code",
   "execution_count": null,
   "metadata": {
    "id": "f4c49905-8648-4663-86a0-39b9e368b34b"
   },
   "outputs": [],
   "source": [
    "#..test\n",
    "assert alwaysBlue() == 'blue'"
   ]
  },
  {
   "cell_type": "markdown",
   "metadata": {
    "id": "195410d4-24b2-4a52-b9d9-7bc2687a671b"
   },
   "source": [
    "..problem SA.a 4\n",
    "\n",
    "@problem. Define a function `alwaysRed` that accepts no arguments and returns the string `'red'`"
   ]
  },
  {
   "cell_type": "code",
   "execution_count": null,
   "metadata": {
    "id": "6365ea80-d06b-45b5-81bf-434a3c78c7f4"
   },
   "outputs": [],
   "source": [
    "# write your code for problem @problem here"
   ]
  },
  {
   "cell_type": "code",
   "execution_count": null,
   "metadata": {
    "id": "13b761c8-96a0-4764-a830-7d5280448a26"
   },
   "outputs": [],
   "source": [
    "#..test\n",
    "\n",
    "assert alwaysRed() == 'red'"
   ]
  },
  {
   "cell_type": "markdown",
   "metadata": {
    "id": "712dc1e9-b3bf-49e0-ba88-920835be579d"
   },
   "source": [
    "..problem SA.b 4\n",
    "\n",
    "@problem. Define a function `sum()` that accepts a list as an argument and returns the sum of the numbers in that list. *(@points points)*"
   ]
  },
  {
   "cell_type": "code",
   "execution_count": null,
   "metadata": {
    "id": "cd9c54ba-224b-44b5-8410-89093c9d3540"
   },
   "outputs": [],
   "source": [
    "# write your code for problem @problem here"
   ]
  },
  {
   "cell_type": "code",
   "execution_count": null,
   "metadata": {
    "id": "c29c8bea-c924-455f-aa8d-c817be4b577d"
   },
   "outputs": [],
   "source": [
    "#..test\n",
    "\n",
    "assert sum([1,2,3]) == 6\n",
    "assert sum([10, 6]) == 16"
   ]
  },
  {
   "cell_type": "code",
   "execution_count": null,
   "metadata": {
    "id": "ce789a9f-fe6d-4883-b2b2-f413418c6704"
   },
   "outputs": [],
   "source": [
    "#..test hidden\n",
    "\n",
    "# These test are not visible to students but are added to the test notebook\n",
    "assert sum([]) == 0\n",
    "assert sum([100]) == 100"
   ]
  },
  {
   "cell_type": "markdown",
   "metadata": {
    "id": "c00adad5-ed5f-4912-af5f-485f0b880791"
   },
   "source": [
    "..problem SA.b 4\n",
    "\n",
    "@problem. Define a function `product()` that accepts a list as an argument and returns the product of the numbers in that list. *(@points points)*"
   ]
  },
  {
   "cell_type": "code",
   "execution_count": null,
   "metadata": {
    "id": "a6115a6a-9d83-4838-a2f9-5bc7edb28a0a"
   },
   "outputs": [],
   "source": [
    "#..test\n",
    "\n",
    "assert product([1,2,3]) == 6\n",
    "assert product([10, 6]) == 60"
   ]
  },
  {
   "cell_type": "code",
   "execution_count": null,
   "metadata": {
    "id": "96b39121-b414-48a6-82d7-095f88bc72f4"
   },
   "outputs": [],
   "source": [
    "#..test hidden\n",
    "\n",
    "# These test are not visible to students but are added to the test notebook\n",
    "assert product([]) == 1\n",
    "assert suproductm([100]) == 100"
   ]
  },
  {
   "cell_type": "markdown",
   "metadata": {
    "id": "16253637-b786-4d3b-b30b-e56a6a6dd72f"
   },
   "source": [
    "..*\n",
    "\n",
    "This is the end of the exam"
   ]
  },
  {
   "cell_type": "markdown",
   "metadata": {
    "id": "c82fab18-1c3b-41ab-b37f-35ced922458f"
   },
   "source": [
    "When you are done, turn your exam in through Canvas."
   ]
  }
 ],
 "metadata": {
  "file_extension": ".py",
  "kernelspec": {
   "display_name": "Python 3",
   "language": "python",
   "name": "python3"
  },
  "language_info": {
   "codemirror_mode": {
    "name": "ipython",
    "version": 3
   },
   "file_extension": ".py",
   "mimetype": "text/x-python",
   "name": "python",
   "nbconvert_exporter": "python",
   "pygments_lexer": "ipython3",
   "version": "3.8.1"
  },
  "mimetype": "text/x-python",
  "name": "python",
  "npconvert_exporter": "python",
  "pygments_lexer": "ipython2",
  "version": 2
 },
 "nbformat": 4,
 "nbformat_minor": 4
}
