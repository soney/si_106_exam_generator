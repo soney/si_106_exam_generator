{
 "cells": [
  {
   "cell_type": "code",
   "execution_count": null,
   "metadata": {},
   "outputs": [],
   "source": [
    "#..exams\n",
    "\n",
    "students = [{'name': 'Steve Oney', 'uniquename': 'soney'}, {'name': 'Paul Resnick', 'uniquename': 'presnick'}]\n",
    "\n",
    "for student in students:\n",
    "    student['filename'] = '{}_midterm_2.ipynb'.format(student['uniquename'])\n",
    "\n",
    "students"
   ]
  },
  {
   "cell_type": "markdown",
   "metadata": {},
   "source": [
    "..*\n",
    "\n",
    "# UMSI 106 Exam Generator\n",
    "\n",
    "## This exam is for @name\n",
    "### Your email address is @uniquename@umich.edu\n",
    "\n",
    "This is an example exam for the UMSI 106 Exam generator."
   ]
  },
  {
   "cell_type": "markdown",
   "metadata": {},
   "source": [
    "..problem MC.a 2\n",
    "\n",
    "@problem. This is problem number @problem. It is alternative number 1. It is worth @points points. *(@points points)*\n",
    "\n",
    "Which of the following mascots would win?\n",
    "\n",
    "- A wolverine\n",
    "- A buckeye\n",
    "- A badger\n",
    "- A shade of red"
   ]
  },
  {
   "cell_type": "code",
   "execution_count": null,
   "metadata": {},
   "outputs": [],
   "source": [
    "# problem @problem answer: "
   ]
  },
  {
   "cell_type": "markdown",
   "metadata": {},
   "source": [
    "..problem MC.a 2\n",
    "\n",
    "@problem. This is problem number @problem. It is alternative number 2. It is worth @points points. *(@points points)*\n",
    "\n",
    "Which is the best color?\n",
    "\n",
    "- Maize\n",
    "- Red\n",
    "- Purple\n",
    "- Green"
   ]
  },
  {
   "cell_type": "code",
   "execution_count": null,
   "metadata": {},
   "outputs": [],
   "source": [
    "# problem @problem answer: "
   ]
  },
  {
   "cell_type": "markdown",
   "metadata": {},
   "source": [
    "..problem MC.b 2\n",
    "\n",
    "@problem. What year was the university of Michigan founded? *(@points points)*\n",
    "\n",
    "- 1817\n",
    "- 1837\n",
    "- 1861\n",
    "- 1900"
   ]
  },
  {
   "cell_type": "code",
   "execution_count": null,
   "metadata": {},
   "outputs": [],
   "source": [
    "# problem @problem answer: "
   ]
  },
  {
   "cell_type": "markdown",
   "metadata": {},
   "source": [
    "..problem MC.b 2\n",
    "\n",
    "@problem. Where was the university of Michigan founded? *(@points points)*\n",
    "\n",
    "- Ann Arbor\n",
    "- Detroit\n",
    "- Dearborn\n",
    "- Flint"
   ]
  },
  {
   "cell_type": "code",
   "execution_count": null,
   "metadata": {},
   "outputs": [],
   "source": [
    "# problem @problem answer: "
   ]
  },
  {
   "cell_type": "markdown",
   "metadata": {},
   "source": [
    "..problem SA.a 4\n",
    "\n",
    "@problem. Define a function `alwaysBlue` that accepts no arguments and returns the string `'blue'`"
   ]
  },
  {
   "cell_type": "code",
   "execution_count": null,
   "metadata": {},
   "outputs": [],
   "source": [
    "# Write your code for problem @problem here"
   ]
  },
  {
   "cell_type": "code",
   "execution_count": null,
   "metadata": {},
   "outputs": [],
   "source": [
    "#..test\n",
    "assert alwaysBlue() == 'blue'"
   ]
  },
  {
   "cell_type": "markdown",
   "metadata": {},
   "source": [
    "..problem SA.a 4\n",
    "\n",
    "@problem. Define a function `alwaysRed` that accepts no arguments and returns the string `'red'`"
   ]
  },
  {
   "cell_type": "code",
   "execution_count": null,
   "metadata": {},
   "outputs": [],
   "source": [
    "# write your code for problem @problem here"
   ]
  },
  {
   "cell_type": "code",
   "execution_count": null,
   "metadata": {},
   "outputs": [],
   "source": [
    "#..test\n",
    "\n",
    "assert alwaysRed() == 'red'"
   ]
  },
  {
   "cell_type": "markdown",
   "metadata": {},
   "source": [
    "..problem SA.b 4\n",
    "\n",
    "@problem. Define a function `sum()` that accepts a list as an argument and returns the sum of the numbers in that list. *(@points points)*"
   ]
  },
  {
   "cell_type": "code",
   "execution_count": null,
   "metadata": {},
   "outputs": [],
   "source": [
    "# write your code for problem @problem here"
   ]
  },
  {
   "cell_type": "code",
   "execution_count": null,
   "metadata": {},
   "outputs": [],
   "source": [
    "#..test\n",
    "\n",
    "assert sum([1,2,3]) == 6\n",
    "assert sum([10, 6]) == 16"
   ]
  },
  {
   "cell_type": "code",
   "execution_count": null,
   "metadata": {},
   "outputs": [],
   "source": [
    "#..test hidden\n",
    "\n",
    "# These test are not visible to students but are added to the test notebook\n",
    "assert sum([]) == 0\n",
    "assert sum([100]) == 100"
   ]
  },
  {
   "cell_type": "markdown",
   "metadata": {},
   "source": [
    "..problem SA.b 4\n",
    "\n",
    "@problem. Define a function `product()` that accepts a list as an argument and returns the product of the numbers in that list. *(@points points)*"
   ]
  },
  {
   "cell_type": "code",
   "execution_count": null,
   "metadata": {},
   "outputs": [],
   "source": [
    "#..test\n",
    "\n",
    "assert product([1,2,3]) == 6\n",
    "assert product([10, 6]) == 60"
   ]
  },
  {
   "cell_type": "code",
   "execution_count": null,
   "metadata": {},
   "outputs": [],
   "source": [
    "#..test hidden\n",
    "\n",
    "# These test are not visible to students but are added to the test notebook\n",
    "assert product([]) == 1\n",
    "assert suproductm([100]) == 100"
   ]
  },
  {
   "cell_type": "markdown",
   "metadata": {},
   "source": [
    "..*\n",
    "\n",
    "This is the end of the exam"
   ]
  },
  {
   "cell_type": "markdown",
   "metadata": {},
   "source": [
    "When you are done, turn your exam in through Canvas."
   ]
  }
 ],
 "metadata": {
  "file_extension": ".py",
  "kernelspec": {
   "display_name": "Python 2.7.17 64-bit",
   "language": "python",
   "name": "python271764bit801d22f7f4b44bbb8e484f9fc7af8637"
  },
  "language_info": {
   "codemirror_mode": {
    "name": "ipython",
    "version": 2
   },
   "file_extension": ".py",
   "mimetype": "text/x-python",
   "name": "python",
   "nbconvert_exporter": "python",
   "pygments_lexer": "ipython2",
   "version": "2.7.17"
  },
  "mimetype": "text/x-python",
  "name": "python",
  "npconvert_exporter": "python",
  "pygments_lexer": "ipython2",
  "version": 2
 },
 "nbformat": 4,
 "nbformat_minor": 4
}
